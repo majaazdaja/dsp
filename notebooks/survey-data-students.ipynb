{
 "cells": [
  {
   "cell_type": "code",
   "execution_count": 1,
   "id": "ee19203cc100ea39",
   "metadata": {
    "ExecuteTime": {
     "end_time": "2025-04-25T08:49:24.997949Z",
     "start_time": "2025-04-25T08:49:24.133667Z"
    }
   },
   "outputs": [],
   "source": [
    "import pandas as pd"
   ]
  },
  {
   "cell_type": "code",
   "execution_count": null,
   "id": "initial_id",
   "metadata": {
    "collapsed": true,
    "jupyter": {
     "is_executing": true,
     "outputs_hidden": true
    }
   },
   "outputs": [],
   "source": [
    "# Load Excel containing all student data\n",
    "students_raw = pd.read_excel('/Volumes/WRKGRP/STD-FSW-BSI-SD-Movement_Tracking/dsp/data/survey/TotalData_T1_all_cbs_ethnicity_gender.xlsx')"
   ]
  },
  {
   "cell_type": "markdown",
   "id": "89445750d5a57228",
   "metadata": {},
   "source": [
    "Because we only need student data pertaining to their ID values and SPARTS scores (vars st_relX), we create a separate dataframe containing only these values."
   ]
  },
  {
   "cell_type": "code",
   "execution_count": null,
   "id": "68a65c3652db8e96",
   "metadata": {
    "jupyter": {
     "is_executing": true
    }
   },
   "outputs": [],
   "source": [
    "# Create list of SPARTS score columns\n",
    "st_rel = [col for col in students_raw.columns if col.startswith('st_rel')]\n",
    "\n",
    "# Batch-limit student data up to and incl. column 'gender_sr' and add SPARTS scores\n",
    "students = students_raw.loc[:,:'gender_sr']\n",
    "students[st_rel] = students_raw[st_rel]"
   ]
  },
  {
   "cell_type": "code",
   "execution_count": null,
   "id": "825863b83a7a8316",
   "metadata": {
    "jupyter": {
     "is_executing": true
    }
   },
   "outputs": [],
   "source": [
    "# Create keyfile with student IDs\n",
    "keyfile_sid = dict(zip(students['ID'].astype(str), students['sID'].astype(str)))"
   ]
  },
  {
   "cell_type": "code",
   "execution_count": null,
   "id": "ad2e233e60770b1c",
   "metadata": {},
   "outputs": [],
   "source": []
  }
 ],
 "metadata": {
  "kernelspec": {
   "display_name": "Python 3 (ipykernel)",
   "language": "python",
   "name": "python3"
  },
  "language_info": {
   "codemirror_mode": {
    "name": "ipython",
    "version": 3
   },
   "file_extension": ".py",
   "mimetype": "text/x-python",
   "name": "python",
   "nbconvert_exporter": "python",
   "pygments_lexer": "ipython3",
   "version": "3.10.13"
  }
 },
 "nbformat": 4,
 "nbformat_minor": 5
}
