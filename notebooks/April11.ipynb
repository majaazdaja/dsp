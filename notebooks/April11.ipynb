{
  "nbformat": 4,
  "nbformat_minor": 0,
  "metadata": {
    "colab": {
      "provenance": []
    },
    "kernelspec": {
      "name": "python3",
      "display_name": "Python 3"
    },
    "language_info": {
      "name": "python"
    }
  },
  "cells": [
    {
      "cell_type": "code",
      "execution_count": 62,
      "metadata": {
        "colab": {
          "base_uri": "https://localhost:8080/"
        },
        "id": "73HfF9bwd5C_",
        "outputId": "329bf656-b16b-44fb-b35e-79f5291b3e2f"
      },
      "outputs": [
        {
          "output_type": "stream",
          "name": "stdout",
          "text": [
            "Drive already mounted at /content/drive; to attempt to forcibly remount, call drive.mount(\"/content/drive\", force_remount=True).\n",
            "Requirement already satisfied: openpyxl in /usr/local/lib/python3.11/dist-packages (3.1.5)\n",
            "Requirement already satisfied: et-xmlfile in /usr/local/lib/python3.11/dist-packages (from openpyxl) (2.0.0)\n"
          ]
        }
      ],
      "source": [
        "from google.colab import drive\n",
        "drive.mount('/content/drive')\n",
        "import pandas as pd\n",
        "import glob\n",
        "!pip install openpyxl\n",
        "\n",
        "day1_folder = \"/content/drive/My Drive/11 april/\"\n",
        "\n",
        "file_paths = glob.glob(day1_folder + \"*.csv\")\n",
        "\n",
        "dataframes = [pd.read_csv(file, sep=';') for file in file_paths]"
      ]
    },
    {
      "cell_type": "code",
      "source": [
        "keyfile_general = pd.read_csv(\"Keyfile_csv.csv\")\n",
        "keyfile_102 = pd.read_excel(\"keyfile school 42 class 102.xlsx\")\n",
        "keyfile_specific = keyfile_102\n",
        "\n",
        "file_to_subject = {}\n",
        "\n",
        "for file in file_paths:\n",
        "    df_temp = pd.read_csv(file, sep=';')\n",
        "    tag_id = df_temp['TagId'].iloc[0]  # This is the TrackLabID\n",
        "    df = pd.read_csv(\"Keyfile_csv.csv\", sep=';')\n",
        "    tagnr = df.loc[df['TrackLabID'] == tag_id, 'Tagnumber'].values[0]\n",
        "\n",
        "    try:\n",
        "        subject_id = keyfile_specific.loc[keyfile_specific['tagnr'] == tagnr, 'subject ID'].values[0]\n",
        "    except:\n",
        "        print(\"Tag not found:\" + tag_id)\n",
        "        subject_id = None  # Assign None if subject ID not found\n",
        "\n",
        "    # Store TrackLabID (tag_id), Tagnumber, and subject ID in the dictionary\n",
        "    file_to_subject[tag_id] = {'Tagnumber': tagnr, 'subject ID': subject_id}\n",
        "#print(file_to_subject)\n"
      ],
      "metadata": {
        "colab": {
          "base_uri": "https://localhost:8080/"
        },
        "id": "zGECARi_eAnp",
        "outputId": "2fb56cb6-1cd5-4560-cb25-fdf4ce2412a3"
      },
      "execution_count": 63,
      "outputs": [
        {
          "output_type": "stream",
          "name": "stdout",
          "text": [
            "Tag not found:0x24025F44CDE1\n",
            "Tag not found:0x24046130BA41\n",
            "Tag not found:0x24046131F1EE\n"
          ]
        }
      ]
    },
    {
      "cell_type": "code",
      "source": [
        "def fix_coordinates(value):\n",
        "\n",
        "    #fixes issues of values like 940721624896047\n",
        "    while abs(value) > 10:\n",
        "        value /= 10  # moves the decimal one to the left\n",
        "\n",
        "    return value\n",
        "\n",
        "#just a sanity check, will remove in final version\n",
        "for df in dataframes:\n",
        "    for col in ['X', 'Y', 'Z']:\n",
        "        df[col] = df[col].apply(fix_coordinates)\n",
        "    print(df['X'].max())\n",
        "    print(df['X'].min())"
      ],
      "metadata": {
        "colab": {
          "base_uri": "https://localhost:8080/"
        },
        "id": "YiHorfaEeRRw",
        "outputId": "ad06def4-2a36-4a9e-fdf4-9e8d94714779"
      },
      "execution_count": 64,
      "outputs": [
        {
          "output_type": "stream",
          "name": "stdout",
          "text": [
            "9.40721624896047\n",
            "0.453501952361497\n",
            "9.92450105308614\n",
            "-9.96295390741081\n",
            "9.60256903603166\n",
            "-3.32349787729596\n",
            "9.85197566046511\n",
            "-8.86466138960537\n",
            "9.98594484804531\n",
            "-9.87490160488661\n",
            "9.86704157508411\n",
            "-6.15536133797028\n",
            "9.36340432184005\n",
            "-9.75192651096805\n",
            "9.95345396150243\n",
            "-9.90416330663674\n",
            "9.93403314592184\n",
            "-8.84926791189599\n",
            "9.9188945205304\n",
            "-9.97887611646083\n",
            "9.47492035396462\n",
            "-6.20691810279558\n",
            "9.52685260676476\n",
            "-3.95312494589235\n",
            "9.82162676087264\n",
            "-8.29262587240004\n",
            "9.22202465435961\n",
            "-9.28494079485871\n",
            "9.80214529547855\n",
            "-9.94566500674398\n",
            "9.33284780905031\n",
            "-9.77106388810018\n"
          ]
        }
      ]
    },
    {
      "cell_type": "code",
      "source": [
        "#don't actually use the averages, could be used for plotting though (I removed those cells from the notebook because we don't actually need it, could add back if you want)\n",
        "object_averages = {}\n",
        "teacher_tag = '0x24046130BA41'\n",
        "for index, df_ in enumerate(dataframes):\n",
        "    tag_id = df_['TagId'].iloc[0]\n",
        "    df = pd.read_csv(\"Keyfile_csv.csv\", sep=';')\n",
        "\n",
        "\n",
        "    if tag_id == teacher_tag:\n",
        "        tagnr = '35'\n",
        "        subject_id = \"Teacher\"\n",
        "\n",
        "    elif tag_id in df['TrackLabID'].values:\n",
        "        tagnr = df.loc[df['TrackLabID'] == tag_id, 'Tagnumber'].values[0]\n",
        "\n",
        "        try:\n",
        "            subject_id = keyfile_specific.loc[keyfile_specific['tagnr'] == tagnr, 'subject ID'].values[0]\n",
        "        except (KeyError, IndexError):\n",
        "            print(f\"Tagnr {tagnr} not found in keyfile_specific\")\n",
        "            subject_id = None\n",
        "\n",
        "\n",
        "    # Calculate averages only if subject_id is not None\n",
        "    if subject_id is not None:\n",
        "        avg_x, avg_y, avg_z = df_[['X', 'Y', 'Z']].mean()\n",
        "        object_averages[f\"Person_{subject_id} with Tagnr {tagnr}\"] = (avg_x, avg_y, avg_z)\n",
        "\n",
        "avg_df = pd.DataFrame.from_dict(object_averages, orient=\"index\", columns=[\"X\", \"Y\", \"Z\"])\n",
        "print(avg_df)"
      ],
      "metadata": {
        "colab": {
          "base_uri": "https://localhost:8080/"
        },
        "id": "Mt9VtWdWeoik",
        "outputId": "c385264c-8e65-4aee-d992-49a7e5fc5f8b"
      },
      "execution_count": 65,
      "outputs": [
        {
          "output_type": "stream",
          "name": "stdout",
          "text": [
            "Tagnr 29 not found in keyfile_specific\n",
            "Tagnr 33 not found in keyfile_specific\n",
            "                                     X         Y         Z\n",
            "Person_7.0 with Tagnr 7       4.576558  3.536418  0.464580\n",
            "Person_10.0 with Tagnr 11     4.244901  1.513698  0.509476\n",
            "Person_8.0 with Tagnr 9       3.341943  3.126551  0.388473\n",
            "Person_Teacher with Tagnr 35  2.690934  4.019353  0.577932\n",
            "Person_14.0 with Tagnr 18     4.085606  2.736085  0.445339\n",
            "Person_15.0 with Tagnr 17     2.939757  2.210103  0.385922\n",
            "Person_9.0 with Tagnr 10      3.261954  3.740230  0.450669\n",
            "Person_6.0 with Tagnr 6       2.813791  1.765423  0.328490\n",
            "Person_3.0 with Tagnr 2       3.932704  2.785945  0.447917\n",
            "Person_4.0 with Tagnr 3       4.100720  3.587963  0.447006\n",
            "Person_1.0 with Tagnr 1       2.195395  3.485029  0.432202\n",
            "Person_11.0 with Tagnr 13     1.016909  3.761704  0.554393\n",
            "Person_5.0 with Tagnr 5       4.262624  4.356669  0.502038\n",
            "Person_13.0 with Tagnr 15     1.937024  2.766699  0.416927\n"
          ]
        }
      ]
    },
    {
      "cell_type": "code",
      "source": [
        "fivemin_object_averages = {}\n",
        "print(dataframes[0].columns)\n",
        "for index, df_ in enumerate(dataframes):\n",
        "    tag_id = df_['TagId'].iloc[0]\n",
        "    #print(tag_id)\n",
        "    df = pd.read_csv(\"Keyfile_csv.csv\", sep=';')\n",
        "\n",
        "\n",
        "    tagnr = df.loc[df['TrackLabID'] == tag_id, 'Tagnumber'].values[0]\n",
        "    # Calculate average for the first 300 rows (approximately 5 minutes)\n",
        "    avg_x, avg_y, avg_z = df_[['X', 'Y', 'Z']].head(300).mean()\n",
        "    fivemin_object_averages[f\"{tagnr}\"] = (avg_x, avg_y, avg_z)\n",
        "\n",
        "#Note I don't see much value in the Z-coordinate, but have included it for now\n",
        "\n",
        "avg_df = pd.DataFrame.from_dict(fivemin_object_averages, orient=\"index\", columns=[\"X\", \"Y\", \"Z\"])\n",
        "\n",
        "print(avg_df)"
      ],
      "metadata": {
        "colab": {
          "base_uri": "https://localhost:8080/"
        },
        "id": "9INxSMF9ewQW",
        "outputId": "f46c71c3-75b1-4a99-e88d-e53b3589228d"
      },
      "execution_count": 66,
      "outputs": [
        {
          "output_type": "stream",
          "name": "stdout",
          "text": [
            "Index(['TimeStamp', 'X', 'Y', 'Z', 'TagId'], dtype='object')\n",
            "           X         Y         Z\n",
            "7   4.463590  4.014012  0.433734\n",
            "11  4.134193  1.926773  0.565215\n",
            "29  1.203719  1.564920  0.489788\n",
            "9   3.066142  3.277840  0.375702\n",
            "35  3.674897  5.099890  0.514209\n",
            "18  3.321364  1.230519  0.304078\n",
            "17  3.007175  2.026214  0.261815\n",
            "10  3.565181  4.469656  0.505362\n",
            "6   5.594847  3.753852  0.648147\n",
            "2   4.986470  3.363611  0.429127\n",
            "3   3.393116  3.277142  0.330418\n",
            "1   1.577541  3.963902  0.458141\n",
            "13  1.012145  4.052341  0.499792\n",
            "5   4.266886  5.432391  0.484703\n",
            "33  4.128696  3.271979  0.391307\n",
            "15  1.631343  2.946449  0.472459\n"
          ]
        }
      ]
    },
    {
      "cell_type": "code",
      "source": [
        "#this initially was for baseline distance purposes, decided using avg first 5 minutes might be better though due to trackers potentially not being turned on in usual positions (e.g. turning it on whilst picking it up from teachers desk)\n",
        "object_start = {}\n",
        "\n",
        "for index, df_ in enumerate(dataframes):\n",
        "    tag_id = df_['TagId'].iloc[0]\n",
        "    df = pd.read_csv(\"Keyfile_csv.csv\", sep=';')\n",
        "    tagnr = df.loc[df['TrackLabID'] == tag_id, 'Tagnumber'].values[0]\n",
        "    # Get the first coordinates for X, Y, and Z\n",
        "    start_x = df_['X'].iloc[0]\n",
        "    start_y = df_['Y'].iloc[0]\n",
        "    start_z = df_['Z'].iloc[0]\n",
        "    object_start[f\"{tagnr}\"] = (start_x, start_y, start_z)\n",
        "\n",
        "start_positions_df = pd.DataFrame.from_dict(object_start, orient=\"index\", columns=[\"X\", \"Y\", \"Z\"])\n",
        "\n",
        "print(start_positions_df)"
      ],
      "metadata": {
        "colab": {
          "base_uri": "https://localhost:8080/"
        },
        "id": "HZsKDKhFe0L7",
        "outputId": "a5798ab2-ada4-450e-b549-398f98c122de"
      },
      "execution_count": 67,
      "outputs": [
        {
          "output_type": "stream",
          "name": "stdout",
          "text": [
            "           X         Y         Z\n",
            "7   4.378336  3.858561  0.519511\n",
            "11  4.137252  1.136436  0.547842\n",
            "29  1.107881  0.706208  0.743003\n",
            "9   5.180991  3.668428  0.403377\n",
            "35  2.322620  5.061799  0.677834\n",
            "18  3.228317  1.148220  0.224174\n",
            "17  3.007175  2.026214  0.504837\n",
            "10  3.570728  4.738615  0.631311\n",
            "6   5.477901  3.812096  0.405335\n",
            "2   5.304984  3.610548  0.408014\n",
            "3   4.663750  4.402218  0.126461\n",
            "1   1.834673  4.049643  0.235754\n",
            "13  1.232346  4.027922  0.643666\n",
            "5   4.257247  5.243555  0.548409\n",
            "33  4.215339  3.362791  0.388413\n",
            "15  1.594550  2.928901  0.427727\n"
          ]
        }
      ]
    },
    {
      "cell_type": "code",
      "source": [
        "import numpy as np\n",
        "\n",
        "def euclidean_distance(x1, y1, x2, y2):\n",
        "  return np.sqrt((x2 - x1)**2 + (y2 - y1)**2)\n",
        "\n",
        "target_tagnr = 35\n",
        "\n",
        "# Find target coordinates using tagnr\n",
        "target_coords = None\n",
        "for tracker, (x, y, _) in fivemin_object_averages.items():\n",
        "  if tracker == f\"{target_tagnr}\":\n",
        "    target_coords = (x, y)\n",
        "    break\n",
        "\n",
        "\n",
        "\n",
        "\n",
        "target_x, target_y = target_coords\n",
        "min_distance = float('inf')\n",
        "closest_tracker = None\n",
        "\n",
        "for tracker, (x, y, _) in fivemin_object_averages.items():\n",
        "  if tracker != f\"{target_tagnr}\":  # Excludes teacher who would have distance 0\n",
        "    distance = euclidean_distance(target_x, target_y, x, y)\n",
        "    print(distance, tracker) #can be removed later\n",
        "    if distance < min_distance:\n",
        "      min_distance = distance\n",
        "      closest_tracker = tracker\n",
        "\n",
        "closest_distance_to_35 = min_distance\n",
        "print(f\"The closest tracker to the teacher is {closest_tracker} with a distance of {closest_distance_to_35}\")"
      ],
      "metadata": {
        "colab": {
          "base_uri": "https://localhost:8080/"
        },
        "id": "Q8VpHN6ye7Iu",
        "outputId": "ba9316b6-9cfd-4337-e025-1ffe1546389e"
      },
      "execution_count": 68,
      "outputs": [
        {
          "output_type": "stream",
          "name": "stdout",
          "text": [
            "1.3420755508487303 7\n",
            "3.2061846134616188 11\n",
            "4.313088502235195 29\n",
            "1.921053202552734 9\n",
            "3.88548736150836 18\n",
            "3.1453668801536976 17\n",
            "0.6397123800646543 10\n",
            "2.344787194276207 6\n",
            "2.1759798891988034 2\n",
            "1.8443995886034945 3\n",
            "2.385240322275953 1\n",
            "2.86139953178728 13\n",
            "0.6789755505487487 5\n",
            "1.8833988288822905 33\n",
            "2.968740139758129 15\n",
            "The closest tracker to the teacher is 10 with a distance of 0.6397123800646543\n"
          ]
        }
      ]
    },
    {
      "cell_type": "code",
      "source": [
        "tracker_counts = {}\n",
        "\n",
        "teacher_df = next((df for df in dataframes if df['TagId'].iloc[0] == teacher_tag), None)  # Find teacher\n",
        "\n",
        "for df in dataframes:\n",
        "    tag_id = df['TagId'].iloc[0]\n",
        "    df_keyfile = pd.read_csv(\"Keyfile_csv.csv\", sep=';')\n",
        "    tagnr = df_keyfile.loc[df_keyfile['TrackLabID'] == tag_id, 'Tagnumber'].values[0]\n",
        "\n",
        "    # Skip teacher\n",
        "    if tagnr == target_tagnr:\n",
        "        continue\n",
        "\n",
        "    # Skip unmatchable trackers\n",
        "    if file_to_subject.get(tag_id) and file_to_subject[tag_id]['subject ID'] is None:\n",
        "        continue\n",
        "\n",
        "    # Initialise count for tracker\n",
        "    tracker_counts[f\"{tagnr}\"] = 0\n",
        "\n",
        "    # Get minimum length of both dataframes to avoid IndexError\n",
        "    min_len = min(len(df), len(teacher_df))\n",
        "\n",
        "    # Iterate through rows using the index\n",
        "    for index in range(min_len):\n",
        "        x = df.loc[index, 'X']\n",
        "        y = df.loc[index, 'Y']\n",
        "\n",
        "        # Get teacher's coordinates from the same row index\n",
        "        target_x = teacher_df.loc[index, 'X']\n",
        "        target_y = teacher_df.loc[index, 'Y']\n",
        "\n",
        "        # Calculate distance to target\n",
        "        distance = euclidean_distance(target_x, target_y, x, y)\n",
        "\n",
        "        # Check if within desired distance\n",
        "        if distance < closest_distance_to_35:\n",
        "            tracker_counts[f\"{tagnr}\"] += 1\n",
        "\n",
        "    # Sort tracker counts\n",
        "sorted_tracker_counts = dict(sorted(tracker_counts.items(), key=lambda item: item[1], reverse=True))\n",
        "\n",
        "# Print the sorted counts with subject IDs\n",
        "for tracker, count in sorted_tracker_counts.items():\n",
        "    subject_id = file_to_subject.get(df_keyfile.loc[df_keyfile['Tagnumber'] == int(tracker), 'TrackLabID'].values[0], {}).get('subject ID')\n",
        "    print(f\"Person {subject_id} with Tracker {tracker}: {count} times within distance of teacher\")"
      ],
      "metadata": {
        "colab": {
          "base_uri": "https://localhost:8080/"
        },
        "id": "sXyn58CRvNQg",
        "outputId": "23332fbb-690d-4755-b4fd-cf175b7d7027"
      },
      "execution_count": 69,
      "outputs": [
        {
          "output_type": "stream",
          "name": "stdout",
          "text": [
            "Person 9.0 with Tracker 10: 2952 times within distance of teacher\n",
            "Person 11.0 with Tracker 13: 2176 times within distance of teacher\n",
            "Person 6.0 with Tracker 6: 2155 times within distance of teacher\n",
            "Person 5.0 with Tracker 5: 1501 times within distance of teacher\n",
            "Person 13.0 with Tracker 15: 1377 times within distance of teacher\n",
            "Person 10.0 with Tracker 11: 1291 times within distance of teacher\n",
            "Person 15.0 with Tracker 17: 1002 times within distance of teacher\n",
            "Person 14.0 with Tracker 18: 797 times within distance of teacher\n",
            "Person 3.0 with Tracker 2: 726 times within distance of teacher\n",
            "Person 4.0 with Tracker 3: 483 times within distance of teacher\n",
            "Person 8.0 with Tracker 9: 341 times within distance of teacher\n",
            "Person 1.0 with Tracker 1: 319 times within distance of teacher\n",
            "Person 7.0 with Tracker 7: 104 times within distance of teacher\n"
          ]
        }
      ]
    },
    {
      "cell_type": "code",
      "source": [
        "half_distance = closest_distance_to_35 / 2\n",
        "htracker_counts = {}\n",
        "\n",
        "teacher_df = next((df for df in dataframes if df['TagId'].iloc[0] == teacher_tag), None)  # Find teacher\n",
        "\n",
        "\n",
        "for df in dataframes:\n",
        "    tag_id = df['TagId'].iloc[0]\n",
        "    df_keyfile = pd.read_csv(\"Keyfile_csv.csv\", sep=';')\n",
        "    tagnr = df_keyfile.loc[df_keyfile['TrackLabID'] == tag_id, 'Tagnumber'].values[0]\n",
        "\n",
        "    # Skip teacher\n",
        "    if tagnr == target_tagnr:\n",
        "        continue\n",
        "\n",
        "    # Skip unmatchable trackers\n",
        "    if file_to_subject.get(tag_id) and file_to_subject[tag_id]['subject ID'] is None:\n",
        "        continue\n",
        "\n",
        "    # Initialise count for tracker\n",
        "    htracker_counts[f\"{tagnr}\"] = 0\n",
        "\n",
        "    # Get minimum length of both dataframes to avoid IndexError\n",
        "    min_len = min(len(df), len(teacher_df))\n",
        "\n",
        "    # Iterate through rows using the index\n",
        "    for index in range(min_len):\n",
        "        x = df.loc[index, 'X']\n",
        "        y = df.loc[index, 'Y']\n",
        "\n",
        "        # Get teacher's coordinates from the same row index\n",
        "        target_x = teacher_df.loc[index, 'X']\n",
        "        target_y = teacher_df.loc[index, 'Y']\n",
        "\n",
        "        # Calculate distance to target\n",
        "        distance = euclidean_distance(target_x, target_y, x, y)\n",
        "\n",
        "        # Check if within desired distance\n",
        "        if distance < half_distance:\n",
        "            htracker_counts[f\"{tagnr}\"] += 1\n",
        "\n",
        "    # Sort tracker counts\n",
        "hsorted_tracker_counts = dict(sorted(htracker_counts.items(), key=lambda item: item[1], reverse=True))\n",
        "\n",
        "# Print the sorted counts with subject IDs\n",
        "for tracker, count in hsorted_tracker_counts.items():\n",
        "    subject_id = file_to_subject.get(df_keyfile.loc[df_keyfile['Tagnumber'] == int(tracker), 'TrackLabID'].values[0], {}).get('subject ID')\n",
        "    print(f\"Person {subject_id} with Tracker {tracker}: {count} times within half distance of teacher\")"
      ],
      "metadata": {
        "colab": {
          "base_uri": "https://localhost:8080/"
        },
        "id": "hv3DhTzLq6BA",
        "outputId": "50d2fca2-2a37-44c0-c86c-37a54bb498a1"
      },
      "execution_count": 71,
      "outputs": [
        {
          "output_type": "stream",
          "name": "stdout",
          "text": [
            "Person 9.0 with Tracker 10: 842 times within half distance of teacher\n",
            "Person 11.0 with Tracker 13: 513 times within half distance of teacher\n",
            "Person 6.0 with Tracker 6: 458 times within half distance of teacher\n",
            "Person 5.0 with Tracker 5: 314 times within half distance of teacher\n",
            "Person 14.0 with Tracker 18: 276 times within half distance of teacher\n",
            "Person 10.0 with Tracker 11: 267 times within half distance of teacher\n",
            "Person 13.0 with Tracker 15: 214 times within half distance of teacher\n",
            "Person 3.0 with Tracker 2: 131 times within half distance of teacher\n",
            "Person 15.0 with Tracker 17: 125 times within half distance of teacher\n",
            "Person 4.0 with Tracker 3: 90 times within half distance of teacher\n",
            "Person 8.0 with Tracker 9: 65 times within half distance of teacher\n",
            "Person 1.0 with Tracker 1: 43 times within half distance of teacher\n",
            "Person 7.0 with Tracker 7: 37 times within half distance of teacher\n"
          ]
        }
      ]
    },
    {
      "cell_type": "code",
      "source": [
        "quarter_distance = closest_distance_to_35/4\n",
        "\n",
        "qtracker_counts = {}\n",
        "\n",
        "teacher_df = next((df for df in dataframes if df['TagId'].iloc[0] == teacher_tag), None)  # Find teacher\n",
        "\n",
        "\n",
        "for df in dataframes:\n",
        "    tag_id = df['TagId'].iloc[0]\n",
        "    df_keyfile = pd.read_csv(\"Keyfile_csv.csv\", sep=';')\n",
        "    tagnr = df_keyfile.loc[df_keyfile['TrackLabID'] == tag_id, 'Tagnumber'].values[0]\n",
        "\n",
        "    # Skip teacher\n",
        "    if tagnr == target_tagnr:\n",
        "        continue\n",
        "\n",
        "    # Skip unmatchable trackers\n",
        "    if file_to_subject.get(tag_id) and file_to_subject[tag_id]['subject ID'] is None:\n",
        "        continue\n",
        "\n",
        "    # Initialise count for tracker\n",
        "    qtracker_counts[f\"{tagnr}\"] = 0\n",
        "\n",
        "    # Get minimum length of both dataframes to avoid IndexError\n",
        "    min_len = min(len(df), len(teacher_df))\n",
        "\n",
        "    # Iterate through rows using the index\n",
        "    for index in range(min_len):\n",
        "        x = df.loc[index, 'X']\n",
        "        y = df.loc[index, 'Y']\n",
        "\n",
        "        # Get teacher's coordinates from the same row index\n",
        "        target_x = teacher_df.loc[index, 'X']\n",
        "        target_y = teacher_df.loc[index, 'Y']\n",
        "\n",
        "        # Calculate distance to target\n",
        "        distance = euclidean_distance(target_x, target_y, x, y)\n",
        "\n",
        "        # Check if within desired distance\n",
        "        if distance < quarter_distance:\n",
        "            qtracker_counts[f\"{tagnr}\"] += 1\n",
        "\n",
        "    # Sort tracker counts\n",
        "qsorted_tracker_counts = dict(sorted(qtracker_counts.items(), key=lambda item: item[1], reverse=True))\n",
        "\n",
        "# Print the sorted counts with subject IDs\n",
        "for tracker, count in qsorted_tracker_counts.items():\n",
        "    subject_id = file_to_subject.get(df_keyfile.loc[df_keyfile['Tagnumber'] == int(tracker), 'TrackLabID'].values[0], {}).get('subject ID')\n",
        "    print(f\"Person {subject_id} with Tracker {tracker}: {count} times within quarter distance of teacher\")"
      ],
      "metadata": {
        "colab": {
          "base_uri": "https://localhost:8080/"
        },
        "id": "WDeeCeUMriwh",
        "outputId": "211be054-f3b9-4085-a2d2-0dd0d307c3c9"
      },
      "execution_count": 73,
      "outputs": [
        {
          "output_type": "stream",
          "name": "stdout",
          "text": [
            "Person 11.0 with Tracker 13: 166 times within quarter distance of teacher\n",
            "Person 9.0 with Tracker 10: 156 times within quarter distance of teacher\n",
            "Person 5.0 with Tracker 5: 89 times within quarter distance of teacher\n",
            "Person 6.0 with Tracker 6: 81 times within quarter distance of teacher\n",
            "Person 10.0 with Tracker 11: 71 times within quarter distance of teacher\n",
            "Person 14.0 with Tracker 18: 64 times within quarter distance of teacher\n",
            "Person 13.0 with Tracker 15: 27 times within quarter distance of teacher\n",
            "Person 3.0 with Tracker 2: 25 times within quarter distance of teacher\n",
            "Person 15.0 with Tracker 17: 22 times within quarter distance of teacher\n",
            "Person 4.0 with Tracker 3: 21 times within quarter distance of teacher\n",
            "Person 1.0 with Tracker 1: 14 times within quarter distance of teacher\n",
            "Person 7.0 with Tracker 7: 13 times within quarter distance of teacher\n",
            "Person 8.0 with Tracker 9: 9 times within quarter distance of teacher\n"
          ]
        }
      ]
    }
  ]
}